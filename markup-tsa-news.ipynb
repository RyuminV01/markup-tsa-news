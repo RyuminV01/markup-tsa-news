{
 "cells": [
  {
   "cell_type": "code",
   "execution_count": 1,
   "metadata": {},
   "outputs": [
    {
     "name": "stdout",
     "output_type": "stream",
     "text": [
      "Service status: 200\n"
     ]
    }
   ],
   "source": [
    "import os\n",
    "import time\n",
    "import requests\n",
    "\n",
    "# Проверяем статус микросервиса\n",
    "status_url = \"http://localhost:8010/ready\"\n",
    "resp = requests.get(status_url)\n",
    "print(f\"Service status: {resp.status_code}\")\n"
   ]
  },
  {
   "cell_type": "code",
   "execution_count": 2,
   "metadata": {},
   "outputs": [
    {
     "data": {
      "application/vnd.jupyter.widget-view+json": {
       "model_id": "9de12ee2122549889f20c939b81e0ba1",
       "version_major": 2,
       "version_minor": 0
      },
      "text/plain": [
       "Loading checkpoint shards:   0%|          | 0/2 [00:00<?, ?it/s]"
      ]
     },
     "metadata": {},
     "output_type": "display_data"
    }
   ],
   "source": [
    "import torch\n",
    "from transformers import AutoTokenizer, T5ForConditionalGeneration\n",
    "\n",
    "# Setup model path.\n",
    "model_path = \"./models/flan-t5-tsa-thor-xl\"\n",
    "# Setup device.\n",
    "device = \"cuda:0\"\n",
    "\n",
    "model = T5ForConditionalGeneration.from_pretrained(model_path, torch_dtype=torch.bfloat16)\n",
    "tokenizer = AutoTokenizer.from_pretrained(model_path)\n",
    "model.to(device)\n",
    "\n",
    "def ask(prompt):\n",
    "  inputs = tokenizer(prompt, return_tensors=\"pt\", add_special_tokens=False)\n",
    "  inputs.to(device)\n",
    "  output = model.generate(**inputs, temperature=1)\n",
    "  return tokenizer.batch_decode(output, skip_special_tokens=True)[0]\n",
    "\n",
    "def target_sentiment_extraction(sentence, target):\n",
    "  # Setup labels.\n",
    "  labels_list = ['neutral', 'positive', 'negative']\n",
    "  # Setup Chain-of-Thought\n",
    "  step1 = f\"Given the sentence {sentence}, which specific aspect of {target} is possibly mentioned?\"\n",
    "  aspect = ask(step1)\n",
    "  step2 = f\"{step1}. The mentioned aspect is about {aspect}. Based on the common sense, what is the implicit opinion towards the mentioned aspect of {target}, and why?\"\n",
    "  opinion = ask(step2)\n",
    "  step3 = f\"{step2}. The opinion towards the mentioned aspect of {target} is {opinion}. Based on such opinion, what is the sentiment polarity towards {target}?\"\n",
    "  emotion_state = ask(step3)\n",
    "  step4 = f\"{step3}. The sentiment polarity is {emotion_state}. Based on these contexts, summarize and return the sentiment polarity only, \" + \"such as: {}.\".format(\", \".join(labels_list))\n",
    "  # Return the final response.\n",
    "  return ask(step4)\n"
   ]
  },
  {
   "cell_type": "code",
   "execution_count": null,
   "metadata": {},
   "outputs": [
    {
     "name": "stdout",
     "output_type": "stream",
     "text": [
      "{'text': 'Досудебное расследование по факту покупки ЕНПФ пакета облигаций ТОО \"Бузгул Аурум\" было начато по инициативе Национального банка РК, сообщил директор департамента защиты прав потребителей и финансовых услуг Нацбанка Казахстана Александр Терентьев.\\n\"Основанием для досудебного расследования стало обращение Национального банка, письмо от 25 ноября 2016 года. Было обращение Национального банка в правоохранительные органы. Нам эта сделка показалась сомнительной, недостаточно корректной, поэтому Нацбанк 25 ноября 2016 года обратился в правоохранительные органы. Это то, что я могу озвучить на сегодня. Идёт следствие, проводится проверка\", – сказал Терентьев.\\n28 декабря в Нацбанке заявили, что не знают, что стало основанием для проверки ЕНПФ.\\n23 декабря факт проведения проверки в АО \"Единый накопительный пенсионный фонд\" подтвердился. Пресс-служба Национального банка сообщила, что проверку проводят по операциям, совершённым АО \"ЕНПФ\" в отношении инвестирования собственных активов.\\nТакже в финрегуляторе сообщали, что по сделке ЕНПФ на сумму в пять млрд заведено уголовное дело. В Нацбанке заверяют, что всё происходящее не затрагивает пенсионных накоплений казахстанцев.\\nЕсли вы нашли ошибку в тексте, выделите ее мышью и нажмите Ctrl+Enter\\n', 'id': 1945, 'sentiment': 'negative'}\n"
     ]
    }
   ],
   "source": [
    "import json\n",
    "\n",
    "# Открываем и читаем JSON-файл\n",
    "with open(\"./data/train.json\", \"r\", encoding=\"utf-8\") as file:\n",
    "    dataset = json.load(file)\n"
   ]
  },
  {
   "cell_type": "code",
   "execution_count": null,
   "metadata": {},
   "outputs": [
    {
     "data": {
      "application/vnd.jupyter.widget-view+json": {
       "model_id": "c425024301814450865b6f0857c60c1c",
       "version_major": 2,
       "version_minor": 0
      },
      "text/plain": [
       "Processing documents:   0%|          | 0/49 [00:00<?, ?it/s]"
      ]
     },
     "metadata": {},
     "output_type": "display_data"
    },
    {
     "data": {
      "application/vnd.jupyter.widget-view+json": {
       "model_id": "12bec11f52f1450595b410f0a411e9c9",
       "version_major": 2,
       "version_minor": 0
      },
      "text/plain": [
       "Doc 201:   0%|          | 0/6 [00:00<?, ?it/s]"
      ]
     },
     "metadata": {},
     "output_type": "display_data"
    },
    {
     "data": {
      "application/vnd.jupyter.widget-view+json": {
       "model_id": "6c59c9d429ec49da99ef4df4183538a3",
       "version_major": 2,
       "version_minor": 0
      },
      "text/plain": [
       "Doc 202:   0%|          | 0/10 [00:00<?, ?it/s]"
      ]
     },
     "metadata": {},
     "output_type": "display_data"
    },
    {
     "data": {
      "application/vnd.jupyter.widget-view+json": {
       "model_id": "512700215af74377823d8bb01eb25a2f",
       "version_major": 2,
       "version_minor": 0
      },
      "text/plain": [
       "Doc 203:   0%|          | 0/12 [00:00<?, ?it/s]"
      ]
     },
     "metadata": {},
     "output_type": "display_data"
    },
    {
     "name": "stderr",
     "output_type": "stream",
     "text": [
      "Token indices sequence length is longer than the specified maximum sequence length for this model (527 > 512). Running this sequence through the model will result in indexing errors\n"
     ]
    },
    {
     "data": {
      "application/vnd.jupyter.widget-view+json": {
       "model_id": "c002964ac155434994759dde98c8b256",
       "version_major": 2,
       "version_minor": 0
      },
      "text/plain": [
       "Doc 204:   0%|          | 0/8 [00:00<?, ?it/s]"
      ]
     },
     "metadata": {},
     "output_type": "display_data"
    },
    {
     "data": {
      "application/vnd.jupyter.widget-view+json": {
       "model_id": "c6f0a3a94aff4f2fb326486a2d782e9c",
       "version_major": 2,
       "version_minor": 0
      },
      "text/plain": [
       "Doc 207:   0%|          | 0/1 [00:00<?, ?it/s]"
      ]
     },
     "metadata": {},
     "output_type": "display_data"
    },
    {
     "data": {
      "application/vnd.jupyter.widget-view+json": {
       "model_id": "83e6df17861d4878bea62f329107a68f",
       "version_major": 2,
       "version_minor": 0
      },
      "text/plain": [
       "Doc 209:   0%|          | 0/11 [00:00<?, ?it/s]"
      ]
     },
     "metadata": {},
     "output_type": "display_data"
    },
    {
     "data": {
      "application/vnd.jupyter.widget-view+json": {
       "model_id": "de77f69fbe644923864d036b396f355c",
       "version_major": 2,
       "version_minor": 0
      },
      "text/plain": [
       "Doc 210:   0%|          | 0/81 [00:00<?, ?it/s]"
      ]
     },
     "metadata": {},
     "output_type": "display_data"
    },
    {
     "data": {
      "application/vnd.jupyter.widget-view+json": {
       "model_id": "3256e89f14344b3a8f6392f36b5d5c0c",
       "version_major": 2,
       "version_minor": 0
      },
      "text/plain": [
       "Doc 213:   0%|          | 0/6 [00:00<?, ?it/s]"
      ]
     },
     "metadata": {},
     "output_type": "display_data"
    },
    {
     "data": {
      "application/vnd.jupyter.widget-view+json": {
       "model_id": "74a8bcd94b7f4fc29089062c47300ec9",
       "version_major": 2,
       "version_minor": 0
      },
      "text/plain": [
       "Doc 218:   0%|          | 0/9 [00:00<?, ?it/s]"
      ]
     },
     "metadata": {},
     "output_type": "display_data"
    },
    {
     "data": {
      "application/vnd.jupyter.widget-view+json": {
       "model_id": "0975df01bc1a4690bdbde478fefe15ea",
       "version_major": 2,
       "version_minor": 0
      },
      "text/plain": [
       "Doc 220:   0%|          | 0/68 [00:00<?, ?it/s]"
      ]
     },
     "metadata": {},
     "output_type": "display_data"
    },
    {
     "data": {
      "application/vnd.jupyter.widget-view+json": {
       "model_id": "9166a9b013a3478fbf942c32e68f5f45",
       "version_major": 2,
       "version_minor": 0
      },
      "text/plain": [
       "Doc 221:   0%|          | 0/18 [00:00<?, ?it/s]"
      ]
     },
     "metadata": {},
     "output_type": "display_data"
    },
    {
     "data": {
      "application/vnd.jupyter.widget-view+json": {
       "model_id": "1958fac4e27340c4a945fdce5b8995a6",
       "version_major": 2,
       "version_minor": 0
      },
      "text/plain": [
       "Doc 226:   0%|          | 0/16 [00:00<?, ?it/s]"
      ]
     },
     "metadata": {},
     "output_type": "display_data"
    },
    {
     "data": {
      "application/vnd.jupyter.widget-view+json": {
       "model_id": "7637a4caee0141bc8fd07930ba6962c4",
       "version_major": 2,
       "version_minor": 0
      },
      "text/plain": [
       "Doc 229:   0%|          | 0/34 [00:00<?, ?it/s]"
      ]
     },
     "metadata": {},
     "output_type": "display_data"
    },
    {
     "data": {
      "application/vnd.jupyter.widget-view+json": {
       "model_id": "4b89e7da88ba4641aa381117dfbc7a51",
       "version_major": 2,
       "version_minor": 0
      },
      "text/plain": [
       "Doc 230:   0%|          | 0/5 [00:00<?, ?it/s]"
      ]
     },
     "metadata": {},
     "output_type": "display_data"
    },
    {
     "data": {
      "application/vnd.jupyter.widget-view+json": {
       "model_id": "01924977cab043cea07ddebe6ae55f3a",
       "version_major": 2,
       "version_minor": 0
      },
      "text/plain": [
       "Doc 231:   0%|          | 0/6 [00:00<?, ?it/s]"
      ]
     },
     "metadata": {},
     "output_type": "display_data"
    },
    {
     "data": {
      "application/vnd.jupyter.widget-view+json": {
       "model_id": "f023923806ba4cd39134d3eda817e40c",
       "version_major": 2,
       "version_minor": 0
      },
      "text/plain": [
       "Doc 233:   0%|          | 0/6 [00:00<?, ?it/s]"
      ]
     },
     "metadata": {},
     "output_type": "display_data"
    },
    {
     "data": {
      "application/vnd.jupyter.widget-view+json": {
       "model_id": "e72cd955fa4b40f6b443d7a665887941",
       "version_major": 2,
       "version_minor": 0
      },
      "text/plain": [
       "Doc 235:   0%|          | 0/10 [00:00<?, ?it/s]"
      ]
     },
     "metadata": {},
     "output_type": "display_data"
    },
    {
     "data": {
      "application/vnd.jupyter.widget-view+json": {
       "model_id": "bf67ef27a8e14807b440971eb8147bc2",
       "version_major": 2,
       "version_minor": 0
      },
      "text/plain": [
       "Doc 236:   0%|          | 0/19 [00:00<?, ?it/s]"
      ]
     },
     "metadata": {},
     "output_type": "display_data"
    },
    {
     "data": {
      "application/vnd.jupyter.widget-view+json": {
       "model_id": "160d38f12b6e4f40ae2cf713d5b80ecf",
       "version_major": 2,
       "version_minor": 0
      },
      "text/plain": [
       "Doc 238:   0%|          | 0/28 [00:00<?, ?it/s]"
      ]
     },
     "metadata": {},
     "output_type": "display_data"
    },
    {
     "data": {
      "application/vnd.jupyter.widget-view+json": {
       "model_id": "40ee80c4c27d43558cf698bdf452c299",
       "version_major": 2,
       "version_minor": 0
      },
      "text/plain": [
       "Doc 239:   0%|          | 0/7 [00:00<?, ?it/s]"
      ]
     },
     "metadata": {},
     "output_type": "display_data"
    },
    {
     "data": {
      "application/vnd.jupyter.widget-view+json": {
       "model_id": "30b5df9e0c2f421a89759945b684fedb",
       "version_major": 2,
       "version_minor": 0
      },
      "text/plain": [
       "Doc 242:   0%|          | 0/1 [00:00<?, ?it/s]"
      ]
     },
     "metadata": {},
     "output_type": "display_data"
    },
    {
     "data": {
      "application/vnd.jupyter.widget-view+json": {
       "model_id": "1733f3972f424d5892f988ea98ff1ac4",
       "version_major": 2,
       "version_minor": 0
      },
      "text/plain": [
       "Doc 243:   0%|          | 0/24 [00:00<?, ?it/s]"
      ]
     },
     "metadata": {},
     "output_type": "display_data"
    },
    {
     "data": {
      "application/vnd.jupyter.widget-view+json": {
       "model_id": "3fea029d254c4be495383d79bdf96328",
       "version_major": 2,
       "version_minor": 0
      },
      "text/plain": [
       "Doc 245:   0%|          | 0/21 [00:00<?, ?it/s]"
      ]
     },
     "metadata": {},
     "output_type": "display_data"
    },
    {
     "data": {
      "application/vnd.jupyter.widget-view+json": {
       "model_id": "19badeebdfb74e4584d5f949958ec0ef",
       "version_major": 2,
       "version_minor": 0
      },
      "text/plain": [
       "Doc 248:   0%|          | 0/12 [00:00<?, ?it/s]"
      ]
     },
     "metadata": {},
     "output_type": "display_data"
    },
    {
     "data": {
      "application/vnd.jupyter.widget-view+json": {
       "model_id": "15338c7814644e61895a3f961933f377",
       "version_major": 2,
       "version_minor": 0
      },
      "text/plain": [
       "Doc 249:   0%|          | 0/39 [00:00<?, ?it/s]"
      ]
     },
     "metadata": {},
     "output_type": "display_data"
    },
    {
     "name": "stdout",
     "output_type": "stream",
     "text": [
      "Данные успешно дописаны в файл: ner_results_natasha_plus.csv\n"
     ]
    }
   ],
   "source": [
    "import pandas as pd\n",
    "from razdel import sentenize\n",
    "import requests\n",
    "import re\n",
    "from tqdm.auto import tqdm\n",
    "\n",
    "create_dataset = []\n",
    "VALID_ENTITY_TYPES = {\"PERSON\", \"ORGANIZATION\", \"COUNTRY\", \"PROFESSION\", \"NATIONALITY\"}\n",
    "\n",
    "#for i in range(141, 150):\n",
    "for i in tqdm(range(201, 250), desc=\"Processing documents\"):\n",
    "    if dataset[i][\"sentiment\"] == \"neutral\":\n",
    "        continue\n",
    "\n",
    "    datatext = dataset[i]\n",
    "    per_n_text = re.split(r\"\\n{1,2}\", datatext['text'])\n",
    "\n",
    "    for paragraph in tqdm(per_n_text, desc=f\"Doc {i}\", leave=False,  total=len(per_n_text)):\n",
    "        if paragraph.strip():  # Пропустить пустые абзацы\n",
    "            for sent in sentenize(paragraph):\n",
    "                if len(sent.text) < 40 or len(sent.text) > 420:\n",
    "                    continue\n",
    "\n",
    "                try:\n",
    "                    response = requests.post(\"http://localhost:8010/recognize\", json=sent.text)\n",
    "                    if response.status_code != 200:\n",
    "                        continue\n",
    "\n",
    "                    item = response.json()\n",
    "                    text = item[\"text\"]\n",
    "\n",
    "                    for entity in item.get(\"ners\", []):\n",
    "                        entity_text = text[entity[0]:entity[1]]\n",
    "                        entity_type = entity[2]\n",
    "\n",
    "                        if entity_type in VALID_ENTITY_TYPES:\n",
    "                            sentence = text\n",
    "                            target = entity_text\n",
    "\n",
    "                            try:\n",
    "                                flant5_response = target_sentiment_extraction(sentence, target)\n",
    "                            except Exception as e:\n",
    "                                print(f\"⚠️ Ошибка в target_sentiment_extraction: {e}\")\n",
    "                                continue\n",
    "\n",
    "                            label = 0\n",
    "                            if flant5_response == \"positive\":\n",
    "                                label = 1\n",
    "                            elif flant5_response == \"negative\":\n",
    "                                label = -1\n",
    "\n",
    "                            create_dataset.append([\n",
    "                                text, entity_text, entity_type, entity[0], entity[1], label\n",
    "                            ])\n",
    "                except Exception as e:\n",
    "                    print(f\"⚠️ Ошибка при запросе или обработке: {e}\")\n",
    "\n",
    "\n",
    "# Создаем DataFrame\n",
    "df = pd.DataFrame(create_dataset, columns=[\"sentence\", \"entity\", \"entity_tag\", \"entity_pos_start_rel\", \"entity_pos_end_rel\", \"label\"])\n",
    "file_exists = os.path.exists(\"ner_results_natasha_plus.csv\")\n",
    "# Записываем в CSV, добавляя заголовки только если файла нет\n",
    "df.to_csv(\"ner_results_natasha_plus.csv\", mode=\"a\", header=not file_exists, index=False, encoding=\"utf-8\", sep=\"\\t\")\n",
    "print(\"Данные успешно дописаны в файл: ner_results_natasha_plus.csv\")\n",
    "\n"
   ]
  }
 ],
 "metadata": {
  "kernelspec": {
   "display_name": ".venv",
   "language": "python",
   "name": "python3"
  },
  "language_info": {
   "codemirror_mode": {
    "name": "ipython",
    "version": 3
   },
   "file_extension": ".py",
   "mimetype": "text/x-python",
   "name": "python",
   "nbconvert_exporter": "python",
   "pygments_lexer": "ipython3",
   "version": "3.9.0"
  }
 },
 "nbformat": 4,
 "nbformat_minor": 2
}
